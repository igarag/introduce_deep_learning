{
 "cells": [
  {
   "cell_type": "markdown",
   "metadata": {},
   "source": [
    "# Introduction to Deep Learning using TensorFlow and Keras.\n",
    "\n",
    "## 3.- Image classifier (pt.2) - Training our neuronal network."
   ]
  },
  {
   "cell_type": "markdown",
   "metadata": {},
   "source": [
    "CNN - Convolutionales neural network explained in this [web site](https://pythonprogramming.net/convolutional-neural-network-deep-learning-python-tensorflow-keras/). More information "
   ]
  },
  {
   "cell_type": "markdown",
   "metadata": {},
   "source": [
    "![Convolutional Neuronal Network](img/convolution_neuronal_networks_explain_2.gif)"
   ]
  },
  {
   "cell_type": "markdown",
   "metadata": {},
   "source": [
    "The `Sequential` model is a linear stack of layers. The model has the input layer, two hidden layers and the output layer.\n",
    "\n",
    "Once the model is defined and structured, the network training is compiled and executed with the samples defined in the previous chapter."
   ]
  },
  {
   "cell_type": "code",
   "execution_count": 3,
   "metadata": {},
   "outputs": [
    {
     "name": "stdout",
     "output_type": "stream",
     "text": [
      "Train on 22451 samples, validate on 2495 samples\n",
      "Epoch 1/3\n",
      "22451/22451 [==============================] - 17s 765us/step - loss: 0.6393 - acc: 0.6281 - val_loss: 0.5746 - val_acc: 0.7174\n",
      "Epoch 2/3\n",
      "22451/22451 [==============================] - 8s 370us/step - loss: 0.5422 - acc: 0.7261 - val_loss: 0.5151 - val_acc: 0.7543\n",
      "Epoch 3/3\n",
      "22451/22451 [==============================] - 8s 371us/step - loss: 0.4871 - acc: 0.7672 - val_loss: 0.4686 - val_acc: 0.7824\n"
     ]
    },
    {
     "data": {
      "text/plain": [
       "<keras.callbacks.History at 0x7f769a56e9d0>"
      ]
     },
     "execution_count": 3,
     "metadata": {},
     "output_type": "execute_result"
    }
   ],
   "source": [
    "import tensorflow as tf\n",
    "from keras.models import Sequential\n",
    "from keras.layers import Dense, Dropout, Activation, Flatten, Conv2D, MaxPooling2D\n",
    "import pickle\n",
    "\n",
    "# This step requires you to have done the first part.\n",
    "X = pickle.load(open(\"models/X.pickle\", \"rb\"))\n",
    "y = pickle.load(open(\"models/y.pickle\", \"rb\"))\n",
    "\n",
    "# Nomalize X\n",
    "X = X/255.0\n",
    "\n",
    "model = Sequential()\n",
    "\n",
    "# Input Layer\n",
    "model.add(Conv2D(64, (3,3), input_shape = X.shape[1:]))\n",
    "model.add(Activation (\"relu\"))\n",
    "model.add(MaxPooling2D(pool_size=(2,2)))\n",
    "\n",
    "# Hidden layer\n",
    "model.add(Conv2D(64, (3,3)))\n",
    "model.add(Activation (\"relu\"))\n",
    "model.add(MaxPooling2D(pool_size=(2,2)))\n",
    "\n",
    "# Hidden layer\n",
    "model.add(Flatten())\n",
    "model.add(Dense(64))\n",
    "\n",
    "# Output layer\n",
    "model.add(Dense(1))\n",
    "model.add(Activation('sigmoid'))\n",
    "\n",
    "# Compilation\n",
    "model.compile(loss=\"binary_crossentropy\",\n",
    "             optimizer=\"adam\",\n",
    "             metrics=[\"accuracy\"])\n",
    "\n",
    "# Execution options\n",
    "model.fit(X, y, batch_size = 32, epochs = 3, validation_split = 0.1)\n",
    "\n"
   ]
  },
  {
   "cell_type": "code",
   "execution_count": null,
   "metadata": {},
   "outputs": [],
   "source": []
  }
 ],
 "metadata": {
  "kernelspec": {
   "display_name": "Python 2",
   "language": "python",
   "name": "python2"
  },
  "language_info": {
   "codemirror_mode": {
    "name": "ipython",
    "version": 2
   },
   "file_extension": ".py",
   "mimetype": "text/x-python",
   "name": "python",
   "nbconvert_exporter": "python",
   "pygments_lexer": "ipython2",
   "version": "2.7.12"
  }
 },
 "nbformat": 4,
 "nbformat_minor": 2
}
